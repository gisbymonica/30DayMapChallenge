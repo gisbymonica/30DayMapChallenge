{
  "nbformat": 4,
  "nbformat_minor": 0,
  "metadata": {
    "colab": {
      "name": "OSM Extraction.ipynb",
      "provenance": [],
      "collapsed_sections": [],
      "toc_visible": true,
      "include_colab_link": true
    },
    "kernelspec": {
      "name": "python3",
      "display_name": "Python 3"
    }
  },
  "cells": [
    {
      "cell_type": "markdown",
      "metadata": {
        "id": "view-in-github",
        "colab_type": "text"
      },
      "source": [
        "<a href=\"https://colab.research.google.com/github/monicamons12/30DayMapChallenge/blob/Monica/OSM_Extraction.ipynb\" target=\"_parent\"><img src=\"https://colab.research.google.com/assets/colab-badge.svg\" alt=\"Open In Colab\"/></a>"
      ]
    },
    {
      "cell_type": "code",
      "metadata": {
        "id": "LWS-aNUJdZT9"
      },
      "source": [
        "# Install GDAL and Geopandas\n",
        "!apt install gdal-bin python-gdal python3-gdal --quiet\n",
        "!apt install python3-rtree --quiet\n",
        "!pip install git+git://github.com/geopandas/geopandas.git --quiet\n",
        "!pip install descartes --quiet\n",
        "!pip install osmnx==1.1.1\n",
        "!pip install folium"
      ],
      "execution_count": null,
      "outputs": []
    },
    {
      "cell_type": "code",
      "metadata": {
        "id": "o0JwSSqwdfDF"
      },
      "source": [
        "import pandas as pd\n",
        "import geopandas as gpd\n",
        "import osmnx\n",
        "import folium\n",
        "from folium.plugins import MousePosition\n",
        "import matplotlib.pyplot as plt\n",
        "import seaborn as sb"
      ],
      "execution_count": 2,
      "outputs": []
    },
    {
      "cell_type": "markdown",
      "metadata": {
        "id": "5F7NmmXKfWLY"
      },
      "source": [
        "#Add Folium Map with plugins\n",
        "\n",
        "*   Folium helps to add manipulated python data to Leaflet Map for visualization\n",
        "*   It has in-built visualisation capabilities, added up by plugins (Draw, MiniMap, Geolocator, etc.,.)\n",
        "\n",
        "\n",
        "\n"
      ]
    },
    {
      "cell_type": "code",
      "metadata": {
        "colab": {
          "base_uri": "https://localhost:8080/",
          "height": 531
        },
        "id": "QGv6T8SxXdJP",
        "outputId": "bfdee349-f615-409d-b731-362c4de50836"
      },
      "source": [
        "map = folium.Map([13.1031, 80.1794], zoom_start=10, tiles=\"CartoDb dark_matter\")\n",
        "map.add_child(folium.ClickForMarker())\n",
        "MousePosition().add_to(map)\n",
        "from folium.plugins import MiniMap\n",
        "MiniMap(tile_layer='Stamen WaterColor', position='bottomleft').add_to(map)\n",
        "map"
      ],
      "execution_count": 106,
      "outputs": [
        {
          "output_type": "execute_result",
          "data": {
            "text/html": [
              "<div style=\"width:100%;\"><div style=\"position:relative;width:100%;height:0;padding-bottom:60%;\"><span style=\"color:#565656\">Make this Notebook Trusted to load map: File -> Trust Notebook</span><iframe src=\"about:blank\" style=\"position:absolute;width:100%;height:100%;left:0;top:0;border:none !important;\" data-html=%3C%21DOCTYPE%20html%3E%0A%3Chead%3E%20%20%20%20%0A%20%20%20%20%3Cmeta%20http-equiv%3D%22content-type%22%20content%3D%22text/html%3B%20charset%3DUTF-8%22%20/%3E%0A%20%20%20%20%3Cscript%3EL_PREFER_CANVAS%3Dfalse%3B%20L_NO_TOUCH%3Dfalse%3B%20L_DISABLE_3D%3Dfalse%3B%3C/script%3E%0A%20%20%20%20%3Cscript%20src%3D%22https%3A//cdn.jsdelivr.net/npm/leaflet%401.4.0/dist/leaflet.js%22%3E%3C/script%3E%0A%20%20%20%20%3Cscript%20src%3D%22https%3A//code.jquery.com/jquery-1.12.4.min.js%22%3E%3C/script%3E%0A%20%20%20%20%3Cscript%20src%3D%22https%3A//maxcdn.bootstrapcdn.com/bootstrap/3.2.0/js/bootstrap.min.js%22%3E%3C/script%3E%0A%20%20%20%20%3Cscript%20src%3D%22https%3A//cdnjs.cloudflare.com/ajax/libs/Leaflet.awesome-markers/2.0.2/leaflet.awesome-markers.js%22%3E%3C/script%3E%0A%20%20%20%20%3Clink%20rel%3D%22stylesheet%22%20href%3D%22https%3A//cdn.jsdelivr.net/npm/leaflet%401.4.0/dist/leaflet.css%22/%3E%0A%20%20%20%20%3Clink%20rel%3D%22stylesheet%22%20href%3D%22https%3A//maxcdn.bootstrapcdn.com/bootstrap/3.2.0/css/bootstrap.min.css%22/%3E%0A%20%20%20%20%3Clink%20rel%3D%22stylesheet%22%20href%3D%22https%3A//maxcdn.bootstrapcdn.com/bootstrap/3.2.0/css/bootstrap-theme.min.css%22/%3E%0A%20%20%20%20%3Clink%20rel%3D%22stylesheet%22%20href%3D%22https%3A//maxcdn.bootstrapcdn.com/font-awesome/4.6.3/css/font-awesome.min.css%22/%3E%0A%20%20%20%20%3Clink%20rel%3D%22stylesheet%22%20href%3D%22https%3A//cdnjs.cloudflare.com/ajax/libs/Leaflet.awesome-markers/2.0.2/leaflet.awesome-markers.css%22/%3E%0A%20%20%20%20%3Clink%20rel%3D%22stylesheet%22%20href%3D%22https%3A//rawcdn.githack.com/python-visualization/folium/master/folium/templates/leaflet.awesome.rotate.css%22/%3E%0A%20%20%20%20%3Cstyle%3Ehtml%2C%20body%20%7Bwidth%3A%20100%25%3Bheight%3A%20100%25%3Bmargin%3A%200%3Bpadding%3A%200%3B%7D%3C/style%3E%0A%20%20%20%20%3Cstyle%3E%23map%20%7Bposition%3Aabsolute%3Btop%3A0%3Bbottom%3A0%3Bright%3A0%3Bleft%3A0%3B%7D%3C/style%3E%0A%20%20%20%20%0A%20%20%20%20%3Cmeta%20name%3D%22viewport%22%20content%3D%22width%3Ddevice-width%2C%0A%20%20%20%20%20%20%20%20initial-scale%3D1.0%2C%20maximum-scale%3D1.0%2C%20user-scalable%3Dno%22%20/%3E%0A%20%20%20%20%3Cstyle%3E%23map_83c39973bdac4253a0257142d476aba5%20%7B%0A%20%20%20%20%20%20%20%20position%3A%20relative%3B%0A%20%20%20%20%20%20%20%20width%3A%20100.0%25%3B%0A%20%20%20%20%20%20%20%20height%3A%20100.0%25%3B%0A%20%20%20%20%20%20%20%20left%3A%200.0%25%3B%0A%20%20%20%20%20%20%20%20top%3A%200.0%25%3B%0A%20%20%20%20%20%20%20%20%7D%0A%20%20%20%20%3C/style%3E%0A%20%20%20%20%3Cscript%20src%3D%22https%3A//rawcdn.githack.com/ardhi/Leaflet.MousePosition/c32f1c84/src/L.Control.MousePosition.js%22%3E%3C/script%3E%0A%20%20%20%20%3Clink%20rel%3D%22stylesheet%22%20href%3D%22https%3A//rawcdn.githack.com/ardhi/Leaflet.MousePosition/c32f1c84/src/L.Control.MousePosition.css%22/%3E%0A%20%20%20%20%3Cscript%20src%3D%22https%3A//cdnjs.cloudflare.com/ajax/libs/leaflet-minimap/3.6.1/Control.MiniMap.js%22%3E%3C/script%3E%0A%20%20%20%20%3Clink%20rel%3D%22stylesheet%22%20href%3D%22https%3A//cdnjs.cloudflare.com/ajax/libs/leaflet-minimap/3.6.1/Control.MiniMap.css%22/%3E%0A%3C/head%3E%0A%3Cbody%3E%20%20%20%20%0A%20%20%20%20%0A%20%20%20%20%3Cdiv%20class%3D%22folium-map%22%20id%3D%22map_83c39973bdac4253a0257142d476aba5%22%20%3E%3C/div%3E%0A%3C/body%3E%0A%3Cscript%3E%20%20%20%20%0A%20%20%20%20%0A%20%20%20%20%0A%20%20%20%20%20%20%20%20var%20bounds%20%3D%20null%3B%0A%20%20%20%20%0A%0A%20%20%20%20var%20map_83c39973bdac4253a0257142d476aba5%20%3D%20L.map%28%0A%20%20%20%20%20%20%20%20%27map_83c39973bdac4253a0257142d476aba5%27%2C%20%7B%0A%20%20%20%20%20%20%20%20center%3A%20%5B13.1031%2C%2080.1794%5D%2C%0A%20%20%20%20%20%20%20%20zoom%3A%2010%2C%0A%20%20%20%20%20%20%20%20maxBounds%3A%20bounds%2C%0A%20%20%20%20%20%20%20%20layers%3A%20%5B%5D%2C%0A%20%20%20%20%20%20%20%20worldCopyJump%3A%20false%2C%0A%20%20%20%20%20%20%20%20crs%3A%20L.CRS.EPSG3857%2C%0A%20%20%20%20%20%20%20%20zoomControl%3A%20true%2C%0A%20%20%20%20%20%20%20%20%7D%29%3B%0A%0A%0A%20%20%20%20%0A%20%20%20%20var%20tile_layer_6b06e782128c4f029208b2bd390f3f58%20%3D%20L.tileLayer%28%0A%20%20%20%20%20%20%20%20%27https%3A//cartodb-basemaps-%7Bs%7D.global.ssl.fastly.net/dark_all/%7Bz%7D/%7Bx%7D/%7By%7D.png%27%2C%0A%20%20%20%20%20%20%20%20%7B%0A%20%20%20%20%20%20%20%20%22attribution%22%3A%20null%2C%0A%20%20%20%20%20%20%20%20%22detectRetina%22%3A%20false%2C%0A%20%20%20%20%20%20%20%20%22maxNativeZoom%22%3A%2018%2C%0A%20%20%20%20%20%20%20%20%22maxZoom%22%3A%2018%2C%0A%20%20%20%20%20%20%20%20%22minZoom%22%3A%200%2C%0A%20%20%20%20%20%20%20%20%22noWrap%22%3A%20false%2C%0A%20%20%20%20%20%20%20%20%22opacity%22%3A%201%2C%0A%20%20%20%20%20%20%20%20%22subdomains%22%3A%20%22abc%22%2C%0A%20%20%20%20%20%20%20%20%22tms%22%3A%20false%0A%7D%29.addTo%28map_83c39973bdac4253a0257142d476aba5%29%3B%0A%20%20%20%20%0A%20%20%20%20%20%20%20%20%20%20%20%20%20%20%20%20function%20newMarker%28e%29%7B%0A%20%20%20%20%20%20%20%20%20%20%20%20%20%20%20%20%20%20%20%20var%20new_mark%20%3D%20L.marker%28%29.setLatLng%28e.latlng%29.addTo%28map_83c39973bdac4253a0257142d476aba5%29%3B%0A%20%20%20%20%20%20%20%20%20%20%20%20%20%20%20%20%20%20%20%20new_mark.dragging.enable%28%29%3B%0A%20%20%20%20%20%20%20%20%20%20%20%20%20%20%20%20%20%20%20%20new_mark.on%28%27dblclick%27%2C%20function%28e%29%7B%20map_83c39973bdac4253a0257142d476aba5.removeLayer%28e.target%29%7D%29%0A%20%20%20%20%20%20%20%20%20%20%20%20%20%20%20%20%20%20%20%20var%20lat%20%3D%20e.latlng.lat.toFixed%284%29%2C%0A%20%20%20%20%20%20%20%20%20%20%20%20%20%20%20%20%20%20%20%20%20%20%20lng%20%3D%20e.latlng.lng.toFixed%284%29%3B%0A%20%20%20%20%20%20%20%20%20%20%20%20%20%20%20%20%20%20%20%20new_mark.bindPopup%28%22Latitude%3A%20%22%20%2B%20lat%20%2B%20%22%3Cbr%3ELongitude%3A%20%22%20%2B%20lng%20%29%3B%0A%20%20%20%20%20%20%20%20%20%20%20%20%20%20%20%20%20%20%20%20%7D%3B%0A%20%20%20%20%20%20%20%20%20%20%20%20%20%20%20%20map_83c39973bdac4253a0257142d476aba5.on%28%27click%27%2C%20newMarker%29%3B%0A%20%20%20%20%20%20%20%20%20%20%20%20%0A%20%20%20%20%0A%0A%20%20%20%20%20%20%20%20var%20mouse_position_0ab2131a00d74da880625f36ccfe7abd%20%3D%20new%20L.Control.MousePosition%28%0A%20%20%20%20%20%20%20%20%20%20%20%20%7B%0A%20%20%22emptyString%22%3A%20%22Unavailable%22%2C%0A%20%20%22lngFirst%22%3A%20false%2C%0A%20%20%22numDigits%22%3A%205%2C%0A%20%20%22position%22%3A%20%22bottomright%22%2C%0A%20%20%22prefix%22%3A%20%22%22%2C%0A%20%20%22separator%22%3A%20%22%20%3A%20%22%0A%7D%29%3B%0A%20%20%20%20%20%20%20%20mouse_position_0ab2131a00d74da880625f36ccfe7abd.options%5B%22latFormatter%22%5D%20%3D%20undefined%3B%0A%20%20%20%20%20%20%20%20mouse_position_0ab2131a00d74da880625f36ccfe7abd.options%5B%22lngFormatter%22%5D%20%3D%20undefined%3B%0A%20%20%20%20%20%20%20%20map_83c39973bdac4253a0257142d476aba5.addControl%28mouse_position_0ab2131a00d74da880625f36ccfe7abd%29%3B%0A%0A%20%20%20%20%20%20%20%20%0A%20%20%20%20%0A%0A%20%20%20%20%20%20%20%20var%20tile_layer_fca11bd6cf164548ba6e9d55a04a90df%20%3D%20L.tileLayer%28%0A%20%20%20%20%20%20%20%20%27https%3A//stamen-tiles-%7Bs%7D.a.ssl.fastly.net/watercolor/%7Bz%7D/%7Bx%7D/%7By%7D.jpg%27%2C%0A%20%20%20%20%20%20%20%20%7B%0A%20%20%20%20%20%20%20%20%22attribution%22%3A%20null%2C%0A%20%20%20%20%20%20%20%20%22detectRetina%22%3A%20false%2C%0A%20%20%20%20%20%20%20%20%22maxNativeZoom%22%3A%2018%2C%0A%20%20%20%20%20%20%20%20%22maxZoom%22%3A%2018%2C%0A%20%20%20%20%20%20%20%20%22minZoom%22%3A%200%2C%0A%20%20%20%20%20%20%20%20%22noWrap%22%3A%20false%2C%0A%20%20%20%20%20%20%20%20%22opacity%22%3A%201%2C%0A%20%20%20%20%20%20%20%20%22subdomains%22%3A%20%22abc%22%2C%0A%20%20%20%20%20%20%20%20%22tms%22%3A%20false%0A%7D%20%29%3B%0A%0A%20%20%20%20%20%20%20%20var%20mini_map_1fe9a7871f23469dbf7b92f22375d96e%20%3D%20new%20L.Control.MiniMap%28%20tile_layer_fca11bd6cf164548ba6e9d55a04a90df%2C%0A%20%20%20%20%20%20%20%20%20%7B%0A%20%20%22autoToggleDisplay%22%3A%20false%2C%0A%20%20%22centerFixed%22%3A%20false%2C%0A%20%20%22collapsedHeight%22%3A%2025%2C%0A%20%20%22collapsedWidth%22%3A%2025%2C%0A%20%20%22height%22%3A%20150%2C%0A%20%20%22minimized%22%3A%20false%2C%0A%20%20%22position%22%3A%20%22bottomleft%22%2C%0A%20%20%22toggleDisplay%22%3A%20false%2C%0A%20%20%22width%22%3A%20150%2C%0A%20%20%22zoomAnimation%22%3A%20false%2C%0A%20%20%22zoomLevelFixed%22%3A%20null%2C%0A%20%20%22zoomLevelOffset%22%3A%20-5%0A%7D%29%3B%0A%20%20%20%20%20%20%20%20map_83c39973bdac4253a0257142d476aba5.addControl%28mini_map_1fe9a7871f23469dbf7b92f22375d96e%29%3B%0A%0A%20%20%20%20%20%20%20%20%0A%3C/script%3E onload=\"this.contentDocument.open();this.contentDocument.write(    decodeURIComponent(this.getAttribute('data-html')));this.contentDocument.close();\" allowfullscreen webkitallowfullscreen mozallowfullscreen></iframe></div></div>"
            ],
            "text/plain": [
              "<folium.folium.Map at 0x7f5b90dbea50>"
            ]
          },
          "metadata": {
            "tags": []
          },
          "execution_count": 106
        }
      ]
    },
    {
      "cell_type": "markdown",
      "metadata": {
        "id": "bs9x0g9rdtKN"
      },
      "source": [
        "## Extracting Street Map from OSM\n",
        "It is possible to extract networks from OSM using OSMNX package. \n",
        "Various ways to extract - by specifying city, by the input of bbox, from point/address.\n",
        "\n",
        "network_type can be 'drive' or 'walk' or 'bike'\n",
        "\n",
        "save_graph_geopackage can also be used to save the network graph as geopackage instead of shapefile as mentioned in the following code"
      ]
    },
    {
      "cell_type": "code",
      "metadata": {
        "id": "ii2GW4P8doAs",
        "colab": {
          "base_uri": "https://localhost:8080/"
        },
        "outputId": "34c9dfc4-1e20-4ee8-9a3d-79aa59dbdaf4"
      },
      "source": [
        "place = \"Chennai, India\"\n",
        "graph = osmnx.graph.graph_from_place(place, network_type='drive')\n",
        "osmnx.io.save_graph_shapefile(graph)"
      ],
      "execution_count": 80,
      "outputs": [
        {
          "output_type": "stream",
          "text": [
            "/usr/local/lib/python3.7/dist-packages/osmnx/io.py:108: UserWarning: Column names longer than 10 characters will be truncated when saved to ESRI Shapefile.\n",
            "  gdf_nodes.to_file(filepath_nodes, driver=\"ESRI Shapefile\", index=True, encoding=encoding)\n"
          ],
          "name": "stderr"
        }
      ]
    },
    {
      "cell_type": "code",
      "metadata": {
        "id": "x3KNRbr1yGap",
        "colab": {
          "base_uri": "https://localhost:8080/"
        },
        "outputId": "330ee596-ebad-4bfb-cfb8-cc0d48ba4622"
      },
      "source": [
        "len(graph)"
      ],
      "execution_count": 83,
      "outputs": [
        {
          "output_type": "execute_result",
          "data": {
            "text/plain": [
              "58921"
            ]
          },
          "metadata": {
            "tags": []
          },
          "execution_count": 83
        }
      ]
    },
    {
      "cell_type": "code",
      "metadata": {
        "id": "N1mh2GsfdxUt"
      },
      "source": [
        "nodes, streets = osmnx.graph_to_gdfs(graph)"
      ],
      "execution_count": 82,
      "outputs": []
    },
    {
      "cell_type": "code",
      "metadata": {
        "id": "0OnaplESf15l",
        "colab": {
          "base_uri": "https://localhost:8080/",
          "height": 237
        },
        "outputId": "f9d77517-0df2-4441-b34d-dc07c33d2ed4"
      },
      "source": [
        "nodes.head()"
      ],
      "execution_count": 84,
      "outputs": [
        {
          "output_type": "execute_result",
          "data": {
            "text/html": [
              "<div>\n",
              "<style scoped>\n",
              "    .dataframe tbody tr th:only-of-type {\n",
              "        vertical-align: middle;\n",
              "    }\n",
              "\n",
              "    .dataframe tbody tr th {\n",
              "        vertical-align: top;\n",
              "    }\n",
              "\n",
              "    .dataframe thead th {\n",
              "        text-align: right;\n",
              "    }\n",
              "</style>\n",
              "<table border=\"1\" class=\"dataframe\">\n",
              "  <thead>\n",
              "    <tr style=\"text-align: right;\">\n",
              "      <th></th>\n",
              "      <th>y</th>\n",
              "      <th>x</th>\n",
              "      <th>highway</th>\n",
              "      <th>street_count</th>\n",
              "      <th>geometry</th>\n",
              "    </tr>\n",
              "    <tr>\n",
              "      <th>osmid</th>\n",
              "      <th></th>\n",
              "      <th></th>\n",
              "      <th></th>\n",
              "      <th></th>\n",
              "      <th></th>\n",
              "    </tr>\n",
              "  </thead>\n",
              "  <tbody>\n",
              "    <tr>\n",
              "      <th>30037235</th>\n",
              "      <td>13.080784</td>\n",
              "      <td>80.265167</td>\n",
              "      <td>traffic_signals</td>\n",
              "      <td>4</td>\n",
              "      <td>POINT (80.26517 13.08078)</td>\n",
              "    </tr>\n",
              "    <tr>\n",
              "      <th>30037236</th>\n",
              "      <td>13.080295</td>\n",
              "      <td>80.262785</td>\n",
              "      <td>traffic_signals</td>\n",
              "      <td>4</td>\n",
              "      <td>POINT (80.26278 13.08030)</td>\n",
              "    </tr>\n",
              "    <tr>\n",
              "      <th>30037239</th>\n",
              "      <td>13.079431</td>\n",
              "      <td>80.258773</td>\n",
              "      <td>traffic_signals</td>\n",
              "      <td>4</td>\n",
              "      <td>POINT (80.25877 13.07943)</td>\n",
              "    </tr>\n",
              "    <tr>\n",
              "      <th>30037240</th>\n",
              "      <td>13.079196</td>\n",
              "      <td>80.256659</td>\n",
              "      <td>traffic_signals</td>\n",
              "      <td>4</td>\n",
              "      <td>POINT (80.25666 13.07920)</td>\n",
              "    </tr>\n",
              "    <tr>\n",
              "      <th>30037241</th>\n",
              "      <td>13.078997</td>\n",
              "      <td>80.254681</td>\n",
              "      <td>traffic_signals</td>\n",
              "      <td>4</td>\n",
              "      <td>POINT (80.25468 13.07900)</td>\n",
              "    </tr>\n",
              "  </tbody>\n",
              "</table>\n",
              "</div>"
            ],
            "text/plain": [
              "                  y          x  ... street_count                   geometry\n",
              "osmid                           ...                                        \n",
              "30037235  13.080784  80.265167  ...            4  POINT (80.26517 13.08078)\n",
              "30037236  13.080295  80.262785  ...            4  POINT (80.26278 13.08030)\n",
              "30037239  13.079431  80.258773  ...            4  POINT (80.25877 13.07943)\n",
              "30037240  13.079196  80.256659  ...            4  POINT (80.25666 13.07920)\n",
              "30037241  13.078997  80.254681  ...            4  POINT (80.25468 13.07900)\n",
              "\n",
              "[5 rows x 5 columns]"
            ]
          },
          "metadata": {
            "tags": []
          },
          "execution_count": 84
        }
      ]
    },
    {
      "cell_type": "code",
      "metadata": {
        "id": "QJkkyGPHf4nH",
        "colab": {
          "base_uri": "https://localhost:8080/",
          "height": 604
        },
        "outputId": "5614ac2c-7592-4fd6-fe8c-f54eb24bd36c"
      },
      "source": [
        "streets.head()"
      ],
      "execution_count": 85,
      "outputs": [
        {
          "output_type": "execute_result",
          "data": {
            "text/html": [
              "<div>\n",
              "<style scoped>\n",
              "    .dataframe tbody tr th:only-of-type {\n",
              "        vertical-align: middle;\n",
              "    }\n",
              "\n",
              "    .dataframe tbody tr th {\n",
              "        vertical-align: top;\n",
              "    }\n",
              "\n",
              "    .dataframe thead th {\n",
              "        text-align: right;\n",
              "    }\n",
              "</style>\n",
              "<table border=\"1\" class=\"dataframe\">\n",
              "  <thead>\n",
              "    <tr style=\"text-align: right;\">\n",
              "      <th></th>\n",
              "      <th></th>\n",
              "      <th></th>\n",
              "      <th>osmid</th>\n",
              "      <th>oneway</th>\n",
              "      <th>name</th>\n",
              "      <th>highway</th>\n",
              "      <th>length</th>\n",
              "      <th>geometry</th>\n",
              "      <th>access</th>\n",
              "      <th>ref</th>\n",
              "      <th>maxspeed</th>\n",
              "      <th>lanes</th>\n",
              "      <th>bridge</th>\n",
              "      <th>tunnel</th>\n",
              "      <th>width</th>\n",
              "      <th>junction</th>\n",
              "      <th>service</th>\n",
              "      <th>est_width</th>\n",
              "    </tr>\n",
              "    <tr>\n",
              "      <th>u</th>\n",
              "      <th>v</th>\n",
              "      <th>key</th>\n",
              "      <th></th>\n",
              "      <th></th>\n",
              "      <th></th>\n",
              "      <th></th>\n",
              "      <th></th>\n",
              "      <th></th>\n",
              "      <th></th>\n",
              "      <th></th>\n",
              "      <th></th>\n",
              "      <th></th>\n",
              "      <th></th>\n",
              "      <th></th>\n",
              "      <th></th>\n",
              "      <th></th>\n",
              "      <th></th>\n",
              "      <th></th>\n",
              "    </tr>\n",
              "  </thead>\n",
              "  <tbody>\n",
              "    <tr>\n",
              "      <th rowspan=\"2\" valign=\"top\">30037235</th>\n",
              "      <th>2197652486</th>\n",
              "      <th>0</th>\n",
              "      <td>209562047</td>\n",
              "      <td>True</td>\n",
              "      <td>Langs Garden Road</td>\n",
              "      <td>secondary</td>\n",
              "      <td>12.499</td>\n",
              "      <td>LINESTRING (80.26517 13.08078, 80.26523 13.08069)</td>\n",
              "      <td>NaN</td>\n",
              "      <td>NaN</td>\n",
              "      <td>NaN</td>\n",
              "      <td>NaN</td>\n",
              "      <td>NaN</td>\n",
              "      <td>NaN</td>\n",
              "      <td>NaN</td>\n",
              "      <td>NaN</td>\n",
              "      <td>NaN</td>\n",
              "      <td>NaN</td>\n",
              "    </tr>\n",
              "    <tr>\n",
              "      <th>254497449</th>\n",
              "      <th>0</th>\n",
              "      <td>237621838</td>\n",
              "      <td>True</td>\n",
              "      <td>EVR Periyar Salai (Poonamallee High Road)</td>\n",
              "      <td>trunk</td>\n",
              "      <td>191.836</td>\n",
              "      <td>LINESTRING (80.26517 13.08078, 80.26539 13.080...</td>\n",
              "      <td>NaN</td>\n",
              "      <td>NaN</td>\n",
              "      <td>NaN</td>\n",
              "      <td>NaN</td>\n",
              "      <td>NaN</td>\n",
              "      <td>NaN</td>\n",
              "      <td>NaN</td>\n",
              "      <td>NaN</td>\n",
              "      <td>NaN</td>\n",
              "      <td>NaN</td>\n",
              "    </tr>\n",
              "    <tr>\n",
              "      <th rowspan=\"3\" valign=\"top\">30037236</th>\n",
              "      <th>304918752</th>\n",
              "      <th>0</th>\n",
              "      <td>27768980</td>\n",
              "      <td>False</td>\n",
              "      <td>EVK Sampath Salai</td>\n",
              "      <td>tertiary</td>\n",
              "      <td>12.456</td>\n",
              "      <td>LINESTRING (80.26278 13.08030, 80.26283 13.08019)</td>\n",
              "      <td>NaN</td>\n",
              "      <td>NaN</td>\n",
              "      <td>NaN</td>\n",
              "      <td>NaN</td>\n",
              "      <td>NaN</td>\n",
              "      <td>NaN</td>\n",
              "      <td>NaN</td>\n",
              "      <td>NaN</td>\n",
              "      <td>NaN</td>\n",
              "      <td>NaN</td>\n",
              "    </tr>\n",
              "    <tr>\n",
              "      <th>254497666</th>\n",
              "      <th>0</th>\n",
              "      <td>237621838</td>\n",
              "      <td>True</td>\n",
              "      <td>EVR Periyar Salai (Poonamallee High Road)</td>\n",
              "      <td>trunk</td>\n",
              "      <td>131.822</td>\n",
              "      <td>LINESTRING (80.26278 13.08030, 80.26397 13.08056)</td>\n",
              "      <td>NaN</td>\n",
              "      <td>NaN</td>\n",
              "      <td>NaN</td>\n",
              "      <td>NaN</td>\n",
              "      <td>NaN</td>\n",
              "      <td>NaN</td>\n",
              "      <td>NaN</td>\n",
              "      <td>NaN</td>\n",
              "      <td>NaN</td>\n",
              "      <td>NaN</td>\n",
              "    </tr>\n",
              "    <tr>\n",
              "      <th>2486635736</th>\n",
              "      <th>0</th>\n",
              "      <td>27768980</td>\n",
              "      <td>False</td>\n",
              "      <td>EVK Sampath Salai</td>\n",
              "      <td>tertiary</td>\n",
              "      <td>207.556</td>\n",
              "      <td>LINESTRING (80.26278 13.08030, 80.26247 13.081...</td>\n",
              "      <td>NaN</td>\n",
              "      <td>NaN</td>\n",
              "      <td>NaN</td>\n",
              "      <td>NaN</td>\n",
              "      <td>NaN</td>\n",
              "      <td>NaN</td>\n",
              "      <td>NaN</td>\n",
              "      <td>NaN</td>\n",
              "      <td>NaN</td>\n",
              "      <td>NaN</td>\n",
              "    </tr>\n",
              "  </tbody>\n",
              "</table>\n",
              "</div>"
            ],
            "text/plain": [
              "                             osmid  oneway  ... service est_width\n",
              "u        v          key                     ...                  \n",
              "30037235 2197652486 0    209562047    True  ...     NaN       NaN\n",
              "         254497449  0    237621838    True  ...     NaN       NaN\n",
              "30037236 304918752  0     27768980   False  ...     NaN       NaN\n",
              "         254497666  0    237621838    True  ...     NaN       NaN\n",
              "         2486635736 0     27768980   False  ...     NaN       NaN\n",
              "\n",
              "[5 rows x 16 columns]"
            ]
          },
          "metadata": {
            "tags": []
          },
          "execution_count": 85
        }
      ]
    },
    {
      "cell_type": "code",
      "metadata": {
        "id": "Fj3J-AFHf-NZ"
      },
      "source": [
        "street_types = pd.DataFrame(streets[\"highway\"].apply(pd.Series)[0].value_counts().reset_index())\n",
        "street_types.columns = [\"type\", \"count\"]"
      ],
      "execution_count": 108,
      "outputs": []
    },
    {
      "cell_type": "code",
      "metadata": {
        "id": "xOqrs3K_02bE",
        "colab": {
          "base_uri": "https://localhost:8080/",
          "height": 729
        },
        "outputId": "83883332-8a10-4d3f-f881-01378671fba5"
      },
      "source": [
        "fig, ax = plt.subplots(figsize=(12,10))\n",
        "sb.stripplot(y=\"type\", x=\"count\", data=street_types, ax=ax)\n",
        "plt.tight_layout()\n",
        "plt.savefig(\"stripplot.png\")\n",
        "#sb.barplot(y=\"type\", x=\"count\", data=street_types, ax=ax)\n",
        "#plt.tight_layout()\n",
        "#plt.savefig(\"barchart.png\")"
      ],
      "execution_count": 109,
      "outputs": [
        {
          "output_type": "display_data",
          "data": {
            "image/png": "[encoded data removed]",
            "text/plain": [
              "<Figure size 864x720 with 1 Axes>"
            ]
          },
          "metadata": {
            "tags": [],
            "needs_background": "light"
          }
        }
      ]
    },
    {
      "cell_type": "code",
      "metadata": {
        "id": "TGWX_0PceB4l"
      },
      "source": [
        "\n",
        "style = {'color': '#F7DC6F', 'weight':'1'}\n",
        "m = folium.Map([13.1031, 80.1794],zoom_start=15,tiles=\"CartoDb positron\")\n",
        "streetsJson = folium.GeoJson(streets, style_function=lambda x: style).add_to(m)\n",
        "folium.GeoJsonTooltip(fields=['name'])\n",
        "m.save(\"streets.html\")\n",
        "m"
      ],
      "execution_count": null,
      "outputs": []
    },
    {
      "cell_type": "markdown",
      "metadata": {
        "id": "7vvdyvVoiaqS"
      },
      "source": [
        "## Extract buildings from OSM"
      ]
    },
    {
      "cell_type": "code",
      "metadata": {
        "id": "ADlKJcGXeLdt"
      },
      "source": [
        "buildings = osmnx.geometries.geometries_from_place(place, {'building': True})"
      ],
      "execution_count": null,
      "outputs": []
    },
    {
      "cell_type": "code",
      "metadata": {
        "id": "YDdMj7_DignX"
      },
      "source": [
        "buildings.head()"
      ],
      "execution_count": null,
      "outputs": []
    },
    {
      "cell_type": "code",
      "metadata": {
        "id": "jXvVP25D3tLM"
      },
      "source": [
        "buildings.shape"
      ],
      "execution_count": null,
      "outputs": []
    },
    {
      "cell_type": "code",
      "metadata": {
        "id": "gB-G4jqI3N5U"
      },
      "source": [
        "cols = ['amenity','building', 'name', 'tourism']\n",
        "buildings[cols].head()"
      ],
      "execution_count": null,
      "outputs": []
    },
    {
      "cell_type": "code",
      "metadata": {
        "id": "Xb5E4Ywyi48F"
      },
      "source": [
        "list(buildings.columns)"
      ],
      "execution_count": null,
      "outputs": []
    },
    {
      "cell_type": "code",
      "metadata": {
        "id": "35g4MEaHiiwe"
      },
      "source": [
        "buildings[\"amenity\"].apply(pd.Series)[0].value_counts()\n"
      ],
      "execution_count": null,
      "outputs": []
    },
    {
      "cell_type": "code",
      "metadata": {
        "id": "3bIdwk_-izUZ"
      },
      "source": [
        "\n",
        "style_buildings = {'color':'#6C3483 ', 'fillColor': '#6C3483 ', 'weight':'1', 'fillOpacity' : 1}\n",
        "\n",
        "m = folium.Map([13.1031, 80.1794],\n",
        "               zoom_start=15,\n",
        "               tiles=\"cartoDb positron\")\n",
        "\n",
        "buildingJson = folium.GeoJson(buildings[:1000], style_function=lambda x: style_buildings).add_to(m)\n",
        "folium.GeoJsonTooltip(fields=['name','amenity'], labels=False).add_to(buildingJson)\n",
        "m.save(\"buildings.html\")\n",
        "m"
      ],
      "execution_count": null,
      "outputs": []
    },
    {
      "cell_type": "markdown",
      "metadata": {
        "id": "_cUXqixEl8x6"
      },
      "source": [
        "## Hospitals in Chennai"
      ]
    },
    {
      "cell_type": "code",
      "metadata": {
        "id": "Xc4zDZ2ejR7K"
      },
      "source": [
        "hospitals = osmnx.geometries.geometries_from_place(place, {'amenity':'hospital'})"
      ],
      "execution_count": 35,
      "outputs": []
    },
    {
      "cell_type": "code",
      "metadata": {
        "id": "c7Cu63vEmHdW"
      },
      "source": [
        "hospitals.head()"
      ],
      "execution_count": null,
      "outputs": []
    },
    {
      "cell_type": "code",
      "metadata": {
        "id": "kXu81smXmDaU"
      },
      "source": [
        "hospitals.shape"
      ],
      "execution_count": null,
      "outputs": []
    },
    {
      "cell_type": "code",
      "metadata": {
        "id": "AEB4jhBwmGXg"
      },
      "source": [
        "hospitals.columns"
      ],
      "execution_count": null,
      "outputs": []
    },
    {
      "cell_type": "code",
      "metadata": {
        "id": "i4LufFZwmLiJ"
      },
      "source": [
        "columns =['name','name:en', 'healthcare', 'healthcare:speciality', 'opening_hours', 'operator:type', 'addr:street', 'addr:city','addr:postcode', 'contact:phone']\n",
        "hospitals[columns].head()"
      ],
      "execution_count": null,
      "outputs": []
    },
    {
      "cell_type": "code",
      "metadata": {
        "id": "X_uFijyHm6Ya"
      },
      "source": [
        "hospital_points = hospitals[hospitals.geom_type == \"Point\"]"
      ],
      "execution_count": 76,
      "outputs": []
    },
    {
      "cell_type": "code",
      "metadata": {
        "id": "KU2C2wcomNSF"
      },
      "source": [
        "m = folium.Map([13.1031, 80.1794], zoom_start=10, tiles=\"CartoDb dark_matter\")\n",
        "locs = zip(hospital_points.geometry.y, hospital_points.geometry.x)\n",
        "for location in locs:\n",
        "    folium.CircleMarker(location=location, popup=folium.Popup(location) , color = \"#F4F6F6\",   radius=2).add_to(m)\n",
        "m.save(\"hospitals.html\")\n",
        "m"
      ],
      "execution_count": null,
      "outputs": []
    },
    {
      "cell_type": "markdown",
      "metadata": {
        "id": "2mO7KwVIRKG3"
      },
      "source": [
        "##Calculate Shortest Path using OSMNX and Plot Route\n",
        "\n"
      ]
    },
    {
      "cell_type": "code",
      "metadata": {
        "colab": {
          "base_uri": "https://localhost:8080/",
          "height": 466
        },
        "id": "KGJG5nj7frxN",
        "outputId": "99d1c001-b225-49e3-ecb4-3ba9276ca7ed"
      },
      "source": [
        "dist_array = osmnx.distance.shortest_path(graph, 30037235, 30037241 )\n",
        "route = osmnx.plot.plot_graph_route(graph, dist_array, route_color='r')"
      ],
      "execution_count": 107,
      "outputs": [
        {
          "output_type": "display_data",
          "data": {
            "image/png": "[encoded data removed]",
            "text/plain": [
              "<Figure size 576x576 with 1 Axes>"
            ]
          },
          "metadata": {
            "tags": []
          }
        }
      ]
    }
  ]
}