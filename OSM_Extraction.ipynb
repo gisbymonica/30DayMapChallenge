{
  "nbformat": 4,
  "nbformat_minor": 0,
  "metadata": {
    "colab": {
      "name": "OSM Extraction.ipynb",
      "provenance": [],
      "collapsed_sections": [],
      "toc_visible": true,
      "include_colab_link": true
    },
    "kernelspec": {
      "name": "python3",
      "display_name": "Python 3"
    }
  },
  "cells": [
    {
      "cell_type": "markdown",
      "metadata": {
        "id": "view-in-github",
        "colab_type": "text"
      },
      "source": [
        "<a href=\"https://colab.research.google.com/github/monicamons12/30DayMapChallenge/blob/Monica/OSM_Extraction.ipynb\" target=\"_parent\"><img src=\"https://colab.research.google.com/assets/colab-badge.svg\" alt=\"Open In Colab\"/></a>"
      ]
    },
    {
      "cell_type": "code",
      "metadata": {
        "id": "LWS-aNUJdZT9"
      },
      "source": [
        "# Install GDAL and Geopandas\n",
        "!apt install gdal-bin python-gdal python3-gdal --quiet\n",
        "!apt install python3-rtree --quiet\n",
        "!pip install git+git://github.com/geopandas/geopandas.git --quiet\n",
        "!pip install descartes --quiet\n",
        "!pip install osmnx==1.1.1\n",
        "!pip install folium"
      ],
      "execution_count": null,
      "outputs": []
    },
    {
      "cell_type": "code",
      "metadata": {
        "id": "o0JwSSqwdfDF"
      },
      "source": [
        "import pandas as pd\n",
        "import geopandas as gpd\n",
        "import osmnx as ox\n",
        "import folium\n",
        "import matplotlib.pyplot as plt\n",
        "import seaborn as sb"
      ],
      "execution_count": 2,
      "outputs": []
    },
    {
      "cell_type": "markdown",
      "metadata": {
        "id": "bs9x0g9rdtKN"
      },
      "source": [
        "## Extracting Street Map from OSM\n",
        "It is possible to extract networks from OSM using OSMNX package. \n",
        "Various ways to extract - by specifying city, by the input of bbox, from point/address.\n",
        "\n",
        "network_type can be 'drive' or 'walk' or 'bike'\n",
        "\n",
        "save_graph_geopackage can also be used to save the network graph as geopackage instead of shapefile as mentioned in the following code"
      ]
    },
    {
      "cell_type": "code",
      "metadata": {
        "id": "ii2GW4P8doAs"
      },
      "source": [
        "place = \"Chennai, India\"\n",
        "graph = ox.graph.graph_from_place(place, network_type='drive')\n",
        "ox.io.save_graph_shapefile(graph)"
      ],
      "execution_count": null,
      "outputs": []
    },
    {
      "cell_type": "code",
      "metadata": {
        "id": "x3KNRbr1yGap"
      },
      "source": [
        "len(graph)\n",
        "ox.stats.street_length_total(graph)"
      ],
      "execution_count": null,
      "outputs": []
    },
    {
      "cell_type": "code",
      "metadata": {
        "id": "N1mh2GsfdxUt"
      },
      "source": [
        "nodes, streets = ox.graph_to_gdfs(graph)"
      ],
      "execution_count": 8,
      "outputs": []
    },
    {
      "cell_type": "code",
      "metadata": {
        "id": "0OnaplESf15l"
      },
      "source": [
        "nodes.head()"
      ],
      "execution_count": null,
      "outputs": []
    },
    {
      "cell_type": "code",
      "metadata": {
        "id": "QJkkyGPHf4nH"
      },
      "source": [
        "streets.head()"
      ],
      "execution_count": null,
      "outputs": []
    },
    {
      "cell_type": "code",
      "metadata": {
        "id": "Fj3J-AFHf-NZ"
      },
      "source": [
        "street_types = pd.DataFrame(streets[\"highway\"].apply(pd.Series)[0].value_counts().reset_index())\n",
        "street_types.columns = [\"type\", \"count\"]"
      ],
      "execution_count": 11,
      "outputs": []
    },
    {
      "cell_type": "code",
      "metadata": {
        "id": "xOqrs3K_02bE"
      },
      "source": [
        "fig, ax = plt.subplots(figsize=(12,10))\n",
        "sb.stripplot(y=\"type\", x=\"count\", data=street_types, ax=ax)\n",
        "plt.tight_layout()\n",
        "plt.savefig(\"stripplot.png\")\n",
        "#sb.barplot(y=\"type\", x=\"count\", data=street_types, ax=ax)\n",
        "#plt.tight_layout()\n",
        "#plt.savefig(\"barchart.png\")"
      ],
      "execution_count": null,
      "outputs": []
    },
    {
      "cell_type": "code",
      "metadata": {
        "id": "TGWX_0PceB4l"
      },
      "source": [
        "\n",
        "style = {'color': '#F7DC6F', 'weight':'1'}\n",
        "m = folium.Map([13.1031, 80.1794],\n",
        "               zoom_start=15,\n",
        "               tiles=\"CartoDb positron\")\n",
        "streetsJson = folium.GeoJson(streets, style_function=lambda x: style).add_to(m)\n",
        "folium.GeoJsonTooltip(fields=['name'])\n",
        "m.save(\"streets.html\")\n",
        "m"
      ],
      "execution_count": 67,
      "outputs": []
    },
    {
      "cell_type": "markdown",
      "metadata": {
        "id": "7vvdyvVoiaqS"
      },
      "source": [
        "## Extract buildings from OSM"
      ]
    },
    {
      "cell_type": "code",
      "metadata": {
        "id": "ADlKJcGXeLdt"
      },
      "source": [
        "buildings = ox.geometries.geometries_from_place(place, {'building': True})"
      ],
      "execution_count": 20,
      "outputs": []
    },
    {
      "cell_type": "code",
      "metadata": {
        "id": "YDdMj7_DignX"
      },
      "source": [
        "buildings.head()"
      ],
      "execution_count": null,
      "outputs": []
    },
    {
      "cell_type": "code",
      "metadata": {
        "id": "jXvVP25D3tLM"
      },
      "source": [
        "buildings.shape"
      ],
      "execution_count": null,
      "outputs": []
    },
    {
      "cell_type": "code",
      "metadata": {
        "id": "gB-G4jqI3N5U"
      },
      "source": [
        "cols = ['amenity','building', 'name', 'tourism']\n",
        "buildings[cols].head()"
      ],
      "execution_count": null,
      "outputs": []
    },
    {
      "cell_type": "code",
      "metadata": {
        "id": "Xb5E4Ywyi48F"
      },
      "source": [
        "list(buildings.columns)"
      ],
      "execution_count": null,
      "outputs": []
    },
    {
      "cell_type": "code",
      "metadata": {
        "id": "35g4MEaHiiwe"
      },
      "source": [
        "buildings[\"amenity\"].apply(pd.Series)[0].value_counts()\n"
      ],
      "execution_count": null,
      "outputs": []
    },
    {
      "cell_type": "code",
      "metadata": {
        "id": "3bIdwk_-izUZ"
      },
      "source": [
        "\n",
        "style_buildings = {'color':'#6C3483 ', 'fillColor': '#6C3483 ', 'weight':'1', 'fillOpacity' : 1}\n",
        "\n",
        "m = folium.Map([13.1031, 80.1794],\n",
        "               zoom_start=15,\n",
        "               tiles=\"cartoDb positron\")\n",
        "\n",
        "buildingJson = folium.GeoJson(buildings[:1000], style_function=lambda x: style_buildings).add_to(m)\n",
        "folium.GeoJsonTooltip(fields=['name','amenity'], labels=False).add_to(buildingJson)\n",
        "m.save(\"buildings.html\")\n",
        "m"
      ],
      "execution_count": null,
      "outputs": []
    },
    {
      "cell_type": "markdown",
      "metadata": {
        "id": "_cUXqixEl8x6"
      },
      "source": [
        "## Hospitals in Chennai"
      ]
    },
    {
      "cell_type": "code",
      "metadata": {
        "id": "Xc4zDZ2ejR7K"
      },
      "source": [
        "hospitals = ox.geometries.geometries_from_place(place, {'amenity':'hospital'})"
      ],
      "execution_count": 35,
      "outputs": []
    },
    {
      "cell_type": "code",
      "metadata": {
        "id": "c7Cu63vEmHdW"
      },
      "source": [
        "hospitals.head()"
      ],
      "execution_count": null,
      "outputs": []
    },
    {
      "cell_type": "code",
      "metadata": {
        "id": "kXu81smXmDaU"
      },
      "source": [
        "hospitals.shape"
      ],
      "execution_count": null,
      "outputs": []
    },
    {
      "cell_type": "code",
      "metadata": {
        "id": "AEB4jhBwmGXg"
      },
      "source": [
        "hospitals.columns"
      ],
      "execution_count": null,
      "outputs": []
    },
    {
      "cell_type": "code",
      "metadata": {
        "id": "i4LufFZwmLiJ"
      },
      "source": [
        "columns =['name','name:en', 'healthcare', 'healthcare:speciality', 'opening_hours', 'operator:type', 'addr:street', 'addr:city','addr:postcode', 'contact:phone']\n",
        "hospitals[columns].head()"
      ],
      "execution_count": null,
      "outputs": []
    },
    {
      "cell_type": "code",
      "metadata": {
        "id": "X_uFijyHm6Ya"
      },
      "source": [
        "hospital_points = hospitals[hospitals.geom_type == \"Point\"]"
      ],
      "execution_count": 76,
      "outputs": []
    },
    {
      "cell_type": "code",
      "metadata": {
        "id": "KU2C2wcomNSF"
      },
      "source": [
        "m = folium.Map([13.1031, 80.1794], zoom_start=10, tiles=\"CartoDb dark_matter\")\n",
        "locs = zip(hospital_points.geometry.y, hospital_points.geometry.x)\n",
        "for location in locs:\n",
        "    folium.CircleMarker(location=location, popup=folium.Popup(location) , color = \"#F4F6F6\",   radius=2).add_to(m)\n",
        "m.save(\"hospitals.html\")\n",
        "m"
      ],
      "execution_count": null,
      "outputs": []
    },
    {
      "cell_type": "markdown",
      "metadata": {
        "id": "2mO7KwVIRKG3"
      },
      "source": [
        "##"
      ]
    }
  ]
}